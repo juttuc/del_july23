{
 "cells": [
  {
   "cell_type": "code",
   "execution_count": 312,
   "metadata": {},
   "outputs": [],
   "source": [
    "##library import\n",
    "import pandas as pd\n",
    "import numpy as np\n",
    "import matplotlib.pyplot as plt\n",
    "import seaborn as sns"
   ]
  },
  {
   "cell_type": "markdown",
   "metadata": {},
   "source": [
    "# Data Loading"
   ]
  },
  {
   "cell_type": "code",
   "execution_count": 313,
   "metadata": {},
   "outputs": [],
   "source": [
    "#data load\n",
    "df = pd.read_csv('Group_1_ML_Task_Dataset.csv')"
   ]
  },
  {
   "cell_type": "code",
   "execution_count": 314,
   "metadata": {},
   "outputs": [
    {
     "data": {
      "text/html": [
       "<div>\n",
       "<style scoped>\n",
       "    .dataframe tbody tr th:only-of-type {\n",
       "        vertical-align: middle;\n",
       "    }\n",
       "\n",
       "    .dataframe tbody tr th {\n",
       "        vertical-align: top;\n",
       "    }\n",
       "\n",
       "    .dataframe thead th {\n",
       "        text-align: right;\n",
       "    }\n",
       "</style>\n",
       "<table border=\"1\" class=\"dataframe\">\n",
       "  <thead>\n",
       "    <tr style=\"text-align: right;\">\n",
       "      <th></th>\n",
       "      <th>Customer_id</th>\n",
       "      <th>contact</th>\n",
       "      <th>month</th>\n",
       "      <th>day_of_week</th>\n",
       "      <th>duration</th>\n",
       "      <th>campaign</th>\n",
       "      <th>pdays</th>\n",
       "      <th>previous</th>\n",
       "      <th>poutcome</th>\n",
       "      <th>age</th>\n",
       "      <th>...</th>\n",
       "      <th>Postal_Code</th>\n",
       "      <th>emp_var_rate</th>\n",
       "      <th>cons_price_idx</th>\n",
       "      <th>cons_conf_idx</th>\n",
       "      <th>euribor3m</th>\n",
       "      <th>nr_employed</th>\n",
       "      <th>Region_Name</th>\n",
       "      <th>State_Name</th>\n",
       "      <th>City_Name</th>\n",
       "      <th>C_Response</th>\n",
       "    </tr>\n",
       "  </thead>\n",
       "  <tbody>\n",
       "    <tr>\n",
       "      <th>0</th>\n",
       "      <td>1</td>\n",
       "      <td>telephone</td>\n",
       "      <td>may</td>\n",
       "      <td>mon</td>\n",
       "      <td>307</td>\n",
       "      <td>1</td>\n",
       "      <td>999</td>\n",
       "      <td>0</td>\n",
       "      <td>nonexistent</td>\n",
       "      <td>56</td>\n",
       "      <td>...</td>\n",
       "      <td>42420</td>\n",
       "      <td>1.1</td>\n",
       "      <td>93.994</td>\n",
       "      <td>-36.4</td>\n",
       "      <td>4.857</td>\n",
       "      <td>5191.0</td>\n",
       "      <td>South</td>\n",
       "      <td>Kentucky</td>\n",
       "      <td>Henderson</td>\n",
       "      <td>no</td>\n",
       "    </tr>\n",
       "    <tr>\n",
       "      <th>1</th>\n",
       "      <td>2</td>\n",
       "      <td>telephone</td>\n",
       "      <td>may</td>\n",
       "      <td>mon</td>\n",
       "      <td>198</td>\n",
       "      <td>1</td>\n",
       "      <td>999</td>\n",
       "      <td>0</td>\n",
       "      <td>nonexistent</td>\n",
       "      <td>45</td>\n",
       "      <td>...</td>\n",
       "      <td>42420</td>\n",
       "      <td>1.1</td>\n",
       "      <td>93.994</td>\n",
       "      <td>-36.4</td>\n",
       "      <td>4.857</td>\n",
       "      <td>5191.0</td>\n",
       "      <td>South</td>\n",
       "      <td>Kentucky</td>\n",
       "      <td>Henderson</td>\n",
       "      <td>no</td>\n",
       "    </tr>\n",
       "    <tr>\n",
       "      <th>2</th>\n",
       "      <td>539</td>\n",
       "      <td>telephone</td>\n",
       "      <td>may</td>\n",
       "      <td>tue</td>\n",
       "      <td>389</td>\n",
       "      <td>1</td>\n",
       "      <td>999</td>\n",
       "      <td>0</td>\n",
       "      <td>nonexistent</td>\n",
       "      <td>32</td>\n",
       "      <td>...</td>\n",
       "      <td>42420</td>\n",
       "      <td>1.1</td>\n",
       "      <td>93.994</td>\n",
       "      <td>-36.4</td>\n",
       "      <td>4.857</td>\n",
       "      <td>5191.0</td>\n",
       "      <td>South</td>\n",
       "      <td>Kentucky</td>\n",
       "      <td>Henderson</td>\n",
       "      <td>no</td>\n",
       "    </tr>\n",
       "    <tr>\n",
       "      <th>3</th>\n",
       "      <td>540</td>\n",
       "      <td>telephone</td>\n",
       "      <td>may</td>\n",
       "      <td>tue</td>\n",
       "      <td>158</td>\n",
       "      <td>1</td>\n",
       "      <td>999</td>\n",
       "      <td>0</td>\n",
       "      <td>nonexistent</td>\n",
       "      <td>36</td>\n",
       "      <td>...</td>\n",
       "      <td>42420</td>\n",
       "      <td>1.1</td>\n",
       "      <td>93.994</td>\n",
       "      <td>-36.4</td>\n",
       "      <td>4.857</td>\n",
       "      <td>5191.0</td>\n",
       "      <td>South</td>\n",
       "      <td>Kentucky</td>\n",
       "      <td>Henderson</td>\n",
       "      <td>no</td>\n",
       "    </tr>\n",
       "    <tr>\n",
       "      <th>4</th>\n",
       "      <td>997</td>\n",
       "      <td>telephone</td>\n",
       "      <td>may</td>\n",
       "      <td>wed</td>\n",
       "      <td>196</td>\n",
       "      <td>2</td>\n",
       "      <td>999</td>\n",
       "      <td>0</td>\n",
       "      <td>nonexistent</td>\n",
       "      <td>31</td>\n",
       "      <td>...</td>\n",
       "      <td>42420</td>\n",
       "      <td>1.1</td>\n",
       "      <td>93.994</td>\n",
       "      <td>-36.4</td>\n",
       "      <td>4.856</td>\n",
       "      <td>5191.0</td>\n",
       "      <td>South</td>\n",
       "      <td>Kentucky</td>\n",
       "      <td>Henderson</td>\n",
       "      <td>no</td>\n",
       "    </tr>\n",
       "  </tbody>\n",
       "</table>\n",
       "<p>5 rows × 29 columns</p>\n",
       "</div>"
      ],
      "text/plain": [
       "   Customer_id    contact month day_of_week  duration  campaign  pdays  \\\n",
       "0            1  telephone   may         mon       307         1    999   \n",
       "1            2  telephone   may         mon       198         1    999   \n",
       "2          539  telephone   may         tue       389         1    999   \n",
       "3          540  telephone   may         tue       158         1    999   \n",
       "4          997  telephone   may         wed       196         2    999   \n",
       "\n",
       "   previous     poutcome  age  ... Postal_Code emp_var_rate cons_price_idx  \\\n",
       "0         0  nonexistent   56  ...       42420          1.1         93.994   \n",
       "1         0  nonexistent   45  ...       42420          1.1         93.994   \n",
       "2         0  nonexistent   32  ...       42420          1.1         93.994   \n",
       "3         0  nonexistent   36  ...       42420          1.1         93.994   \n",
       "4         0  nonexistent   31  ...       42420          1.1         93.994   \n",
       "\n",
       "  cons_conf_idx euribor3m nr_employed  Region_Name State_Name  City_Name  \\\n",
       "0         -36.4     4.857      5191.0        South   Kentucky  Henderson   \n",
       "1         -36.4     4.857      5191.0        South   Kentucky  Henderson   \n",
       "2         -36.4     4.857      5191.0        South   Kentucky  Henderson   \n",
       "3         -36.4     4.857      5191.0        South   Kentucky  Henderson   \n",
       "4         -36.4     4.856      5191.0        South   Kentucky  Henderson   \n",
       "\n",
       "   C_Response  \n",
       "0          no  \n",
       "1          no  \n",
       "2          no  \n",
       "3          no  \n",
       "4          no  \n",
       "\n",
       "[5 rows x 29 columns]"
      ]
     },
     "execution_count": 314,
     "metadata": {},
     "output_type": "execute_result"
    }
   ],
   "source": [
    "df.head()"
   ]
  },
  {
   "cell_type": "code",
   "execution_count": 315,
   "metadata": {},
   "outputs": [
    {
     "data": {
      "text/html": [
       "<div>\n",
       "<style scoped>\n",
       "    .dataframe tbody tr th:only-of-type {\n",
       "        vertical-align: middle;\n",
       "    }\n",
       "\n",
       "    .dataframe tbody tr th {\n",
       "        vertical-align: top;\n",
       "    }\n",
       "\n",
       "    .dataframe thead th {\n",
       "        text-align: right;\n",
       "    }\n",
       "</style>\n",
       "<table border=\"1\" class=\"dataframe\">\n",
       "  <thead>\n",
       "    <tr style=\"text-align: right;\">\n",
       "      <th></th>\n",
       "      <th>Customer_id</th>\n",
       "      <th>duration</th>\n",
       "      <th>campaign</th>\n",
       "      <th>pdays</th>\n",
       "      <th>previous</th>\n",
       "      <th>age</th>\n",
       "      <th>Region_Code_x</th>\n",
       "      <th>Postal_Code</th>\n",
       "      <th>emp_var_rate</th>\n",
       "      <th>cons_price_idx</th>\n",
       "      <th>cons_conf_idx</th>\n",
       "      <th>euribor3m</th>\n",
       "      <th>nr_employed</th>\n",
       "    </tr>\n",
       "  </thead>\n",
       "  <tbody>\n",
       "    <tr>\n",
       "      <th>count</th>\n",
       "      <td>37024.000000</td>\n",
       "      <td>37024.000000</td>\n",
       "      <td>37024.000000</td>\n",
       "      <td>37024.000000</td>\n",
       "      <td>37024.000000</td>\n",
       "      <td>37024.000000</td>\n",
       "      <td>37024.000000</td>\n",
       "      <td>37024.000000</td>\n",
       "      <td>37024.000000</td>\n",
       "      <td>37024.000000</td>\n",
       "      <td>37024.000000</td>\n",
       "      <td>37024.000000</td>\n",
       "      <td>37024.000000</td>\n",
       "    </tr>\n",
       "    <tr>\n",
       "      <th>mean</th>\n",
       "      <td>18546.444495</td>\n",
       "      <td>258.157114</td>\n",
       "      <td>2.568793</td>\n",
       "      <td>962.498406</td>\n",
       "      <td>0.173077</td>\n",
       "      <td>40.043593</td>\n",
       "      <td>2.571791</td>\n",
       "      <td>55183.776712</td>\n",
       "      <td>0.082014</td>\n",
       "      <td>93.575909</td>\n",
       "      <td>-40.505396</td>\n",
       "      <td>3.621118</td>\n",
       "      <td>5167.027515</td>\n",
       "    </tr>\n",
       "    <tr>\n",
       "      <th>std</th>\n",
       "      <td>10704.860914</td>\n",
       "      <td>258.583654</td>\n",
       "      <td>2.769820</td>\n",
       "      <td>186.853382</td>\n",
       "      <td>0.495855</td>\n",
       "      <td>10.434720</td>\n",
       "      <td>1.162268</td>\n",
       "      <td>32057.872950</td>\n",
       "      <td>1.569195</td>\n",
       "      <td>0.578436</td>\n",
       "      <td>4.622698</td>\n",
       "      <td>1.734113</td>\n",
       "      <td>72.217683</td>\n",
       "    </tr>\n",
       "    <tr>\n",
       "      <th>min</th>\n",
       "      <td>1.000000</td>\n",
       "      <td>0.000000</td>\n",
       "      <td>1.000000</td>\n",
       "      <td>0.000000</td>\n",
       "      <td>0.000000</td>\n",
       "      <td>17.000000</td>\n",
       "      <td>1.000000</td>\n",
       "      <td>1040.000000</td>\n",
       "      <td>-3.400000</td>\n",
       "      <td>92.201000</td>\n",
       "      <td>-50.800000</td>\n",
       "      <td>0.634000</td>\n",
       "      <td>4963.600000</td>\n",
       "    </tr>\n",
       "    <tr>\n",
       "      <th>25%</th>\n",
       "      <td>9271.750000</td>\n",
       "      <td>102.000000</td>\n",
       "      <td>1.000000</td>\n",
       "      <td>999.000000</td>\n",
       "      <td>0.000000</td>\n",
       "      <td>32.000000</td>\n",
       "      <td>2.000000</td>\n",
       "      <td>23223.000000</td>\n",
       "      <td>-1.800000</td>\n",
       "      <td>93.075000</td>\n",
       "      <td>-42.700000</td>\n",
       "      <td>1.344000</td>\n",
       "      <td>5099.100000</td>\n",
       "    </tr>\n",
       "    <tr>\n",
       "      <th>50%</th>\n",
       "      <td>18541.500000</td>\n",
       "      <td>180.000000</td>\n",
       "      <td>2.000000</td>\n",
       "      <td>999.000000</td>\n",
       "      <td>0.000000</td>\n",
       "      <td>38.000000</td>\n",
       "      <td>2.000000</td>\n",
       "      <td>55901.000000</td>\n",
       "      <td>1.100000</td>\n",
       "      <td>93.749000</td>\n",
       "      <td>-41.800000</td>\n",
       "      <td>4.857000</td>\n",
       "      <td>5191.000000</td>\n",
       "    </tr>\n",
       "    <tr>\n",
       "      <th>75%</th>\n",
       "      <td>27813.250000</td>\n",
       "      <td>319.000000</td>\n",
       "      <td>3.000000</td>\n",
       "      <td>999.000000</td>\n",
       "      <td>0.000000</td>\n",
       "      <td>47.000000</td>\n",
       "      <td>4.000000</td>\n",
       "      <td>90008.000000</td>\n",
       "      <td>1.400000</td>\n",
       "      <td>93.994000</td>\n",
       "      <td>-36.400000</td>\n",
       "      <td>4.961000</td>\n",
       "      <td>5228.100000</td>\n",
       "    </tr>\n",
       "    <tr>\n",
       "      <th>max</th>\n",
       "      <td>37084.000000</td>\n",
       "      <td>4918.000000</td>\n",
       "      <td>56.000000</td>\n",
       "      <td>999.000000</td>\n",
       "      <td>7.000000</td>\n",
       "      <td>98.000000</td>\n",
       "      <td>4.000000</td>\n",
       "      <td>99301.000000</td>\n",
       "      <td>1.400000</td>\n",
       "      <td>94.767000</td>\n",
       "      <td>-26.900000</td>\n",
       "      <td>5.045000</td>\n",
       "      <td>5228.100000</td>\n",
       "    </tr>\n",
       "  </tbody>\n",
       "</table>\n",
       "</div>"
      ],
      "text/plain": [
       "        Customer_id      duration      campaign         pdays      previous  \\\n",
       "count  37024.000000  37024.000000  37024.000000  37024.000000  37024.000000   \n",
       "mean   18546.444495    258.157114      2.568793    962.498406      0.173077   \n",
       "std    10704.860914    258.583654      2.769820    186.853382      0.495855   \n",
       "min        1.000000      0.000000      1.000000      0.000000      0.000000   \n",
       "25%     9271.750000    102.000000      1.000000    999.000000      0.000000   \n",
       "50%    18541.500000    180.000000      2.000000    999.000000      0.000000   \n",
       "75%    27813.250000    319.000000      3.000000    999.000000      0.000000   \n",
       "max    37084.000000   4918.000000     56.000000    999.000000      7.000000   \n",
       "\n",
       "                age  Region_Code_x   Postal_Code  emp_var_rate  \\\n",
       "count  37024.000000   37024.000000  37024.000000  37024.000000   \n",
       "mean      40.043593       2.571791  55183.776712      0.082014   \n",
       "std       10.434720       1.162268  32057.872950      1.569195   \n",
       "min       17.000000       1.000000   1040.000000     -3.400000   \n",
       "25%       32.000000       2.000000  23223.000000     -1.800000   \n",
       "50%       38.000000       2.000000  55901.000000      1.100000   \n",
       "75%       47.000000       4.000000  90008.000000      1.400000   \n",
       "max       98.000000       4.000000  99301.000000      1.400000   \n",
       "\n",
       "       cons_price_idx  cons_conf_idx     euribor3m   nr_employed  \n",
       "count    37024.000000   37024.000000  37024.000000  37024.000000  \n",
       "mean        93.575909     -40.505396      3.621118   5167.027515  \n",
       "std          0.578436       4.622698      1.734113     72.217683  \n",
       "min         92.201000     -50.800000      0.634000   4963.600000  \n",
       "25%         93.075000     -42.700000      1.344000   5099.100000  \n",
       "50%         93.749000     -41.800000      4.857000   5191.000000  \n",
       "75%         93.994000     -36.400000      4.961000   5228.100000  \n",
       "max         94.767000     -26.900000      5.045000   5228.100000  "
      ]
     },
     "execution_count": 315,
     "metadata": {},
     "output_type": "execute_result"
    }
   ],
   "source": [
    "df.describe()"
   ]
  },
  {
   "cell_type": "code",
   "execution_count": 316,
   "metadata": {},
   "outputs": [
    {
     "name": "stdout",
     "output_type": "stream",
     "text": [
      "<class 'pandas.core.frame.DataFrame'>\n",
      "RangeIndex: 37024 entries, 0 to 37023\n",
      "Data columns (total 29 columns):\n",
      " #   Column          Non-Null Count  Dtype  \n",
      "---  ------          --------------  -----  \n",
      " 0   Customer_id     37024 non-null  int64  \n",
      " 1   contact         37024 non-null  object \n",
      " 2   month           37024 non-null  object \n",
      " 3   day_of_week     37024 non-null  object \n",
      " 4   duration        37024 non-null  int64  \n",
      " 5   campaign        37024 non-null  int64  \n",
      " 6   pdays           37024 non-null  int64  \n",
      " 7   previous        37024 non-null  int64  \n",
      " 8   poutcome        37024 non-null  object \n",
      " 9   age             37024 non-null  int64  \n",
      " 10  job             37024 non-null  object \n",
      " 11  marital         37024 non-null  object \n",
      " 12  education       37024 non-null  object \n",
      " 13  default         37024 non-null  object \n",
      " 14  housing         37024 non-null  object \n",
      " 15  loan            37024 non-null  object \n",
      " 16  Region_Code_x   37024 non-null  int64  \n",
      " 17  State_Code_x    37024 non-null  object \n",
      " 18  City_Code       37024 non-null  object \n",
      " 19  Postal_Code     37024 non-null  int64  \n",
      " 20  emp_var_rate    37024 non-null  float64\n",
      " 21  cons_price_idx  37024 non-null  float64\n",
      " 22  cons_conf_idx   37024 non-null  float64\n",
      " 23  euribor3m       37024 non-null  float64\n",
      " 24  nr_employed     37024 non-null  float64\n",
      " 25  Region_Name     37024 non-null  object \n",
      " 26  State_Name      37024 non-null  object \n",
      " 27  City_Name       37024 non-null  object \n",
      " 28  C_Response      37024 non-null  object \n",
      "dtypes: float64(5), int64(8), object(16)\n",
      "memory usage: 8.2+ MB\n"
     ]
    }
   ],
   "source": [
    "df.info()"
   ]
  },
  {
   "cell_type": "code",
   "execution_count": 317,
   "metadata": {},
   "outputs": [
    {
     "data": {
      "text/plain": [
       "C_Response\n",
       "no     32824\n",
       "yes     4200\n",
       "dtype: int64"
      ]
     },
     "execution_count": 317,
     "metadata": {},
     "output_type": "execute_result"
    }
   ],
   "source": [
    "#C_Response is target varible here. \n",
    "df.groupby('C_Response').size()"
   ]
  },
  {
   "cell_type": "code",
   "execution_count": 318,
   "metadata": {},
   "outputs": [
    {
     "data": {
      "text/plain": [
       "Customer_id       0\n",
       "contact           0\n",
       "month             0\n",
       "day_of_week       0\n",
       "duration          0\n",
       "campaign          0\n",
       "pdays             0\n",
       "previous          0\n",
       "poutcome          0\n",
       "age               0\n",
       "job               0\n",
       "marital           0\n",
       "education         0\n",
       "default           0\n",
       "housing           0\n",
       "loan              0\n",
       "Region_Code_x     0\n",
       "State_Code_x      0\n",
       "City_Code         0\n",
       "Postal_Code       0\n",
       "emp_var_rate      0\n",
       "cons_price_idx    0\n",
       "cons_conf_idx     0\n",
       "euribor3m         0\n",
       "nr_employed       0\n",
       "Region_Name       0\n",
       "State_Name        0\n",
       "City_Name         0\n",
       "C_Response        0\n",
       "dtype: int64"
      ]
     },
     "execution_count": 318,
     "metadata": {},
     "output_type": "execute_result"
    }
   ],
   "source": [
    "#checking for null values\n",
    "df.isnull().sum()"
   ]
  },
  {
   "cell_type": "markdown",
   "metadata": {},
   "source": [
    "# Feature Engineering and EDA"
   ]
  },
  {
   "cell_type": "code",
   "execution_count": 319,
   "metadata": {},
   "outputs": [],
   "source": [
    "df['FINAL_OUTVAR'] = (df.C_Response == 'yes').astype('int')"
   ]
  },
  {
   "cell_type": "code",
   "execution_count": 320,
   "metadata": {},
   "outputs": [],
   "source": [
    "col_numeric = ['duration','campaign','pdays','previous','age','emp_var_rate','cons_price_idx','cons_conf_idx','euribor3m','nr_employed']\n",
    "col_categorical = ['contact','month','day_of_week','poutcome','job','marital','education','default','housing','loan']"
   ]
  },
  {
   "cell_type": "code",
   "execution_count": 321,
   "metadata": {},
   "outputs": [
    {
     "data": {
      "text/html": [
       "<div>\n",
       "<style scoped>\n",
       "    .dataframe tbody tr th:only-of-type {\n",
       "        vertical-align: middle;\n",
       "    }\n",
       "\n",
       "    .dataframe tbody tr th {\n",
       "        vertical-align: top;\n",
       "    }\n",
       "\n",
       "    .dataframe thead th {\n",
       "        text-align: right;\n",
       "    }\n",
       "</style>\n",
       "<table border=\"1\" class=\"dataframe\">\n",
       "  <thead>\n",
       "    <tr style=\"text-align: right;\">\n",
       "      <th></th>\n",
       "      <th>contact_cellular</th>\n",
       "      <th>contact_telephone</th>\n",
       "      <th>month_apr</th>\n",
       "      <th>month_aug</th>\n",
       "      <th>month_dec</th>\n",
       "      <th>month_jul</th>\n",
       "      <th>month_jun</th>\n",
       "      <th>month_mar</th>\n",
       "      <th>month_may</th>\n",
       "      <th>month_nov</th>\n",
       "      <th>...</th>\n",
       "      <th>education_unknown</th>\n",
       "      <th>default_no</th>\n",
       "      <th>default_unknown</th>\n",
       "      <th>default_yes</th>\n",
       "      <th>housing_no</th>\n",
       "      <th>housing_unknown</th>\n",
       "      <th>housing_yes</th>\n",
       "      <th>loan_no</th>\n",
       "      <th>loan_unknown</th>\n",
       "      <th>loan_yes</th>\n",
       "    </tr>\n",
       "  </thead>\n",
       "  <tbody>\n",
       "    <tr>\n",
       "      <th>0</th>\n",
       "      <td>0</td>\n",
       "      <td>1</td>\n",
       "      <td>0</td>\n",
       "      <td>0</td>\n",
       "      <td>0</td>\n",
       "      <td>0</td>\n",
       "      <td>0</td>\n",
       "      <td>0</td>\n",
       "      <td>1</td>\n",
       "      <td>0</td>\n",
       "      <td>...</td>\n",
       "      <td>0</td>\n",
       "      <td>1</td>\n",
       "      <td>0</td>\n",
       "      <td>0</td>\n",
       "      <td>1</td>\n",
       "      <td>0</td>\n",
       "      <td>0</td>\n",
       "      <td>0</td>\n",
       "      <td>0</td>\n",
       "      <td>1</td>\n",
       "    </tr>\n",
       "    <tr>\n",
       "      <th>1</th>\n",
       "      <td>0</td>\n",
       "      <td>1</td>\n",
       "      <td>0</td>\n",
       "      <td>0</td>\n",
       "      <td>0</td>\n",
       "      <td>0</td>\n",
       "      <td>0</td>\n",
       "      <td>0</td>\n",
       "      <td>1</td>\n",
       "      <td>0</td>\n",
       "      <td>...</td>\n",
       "      <td>0</td>\n",
       "      <td>0</td>\n",
       "      <td>1</td>\n",
       "      <td>0</td>\n",
       "      <td>1</td>\n",
       "      <td>0</td>\n",
       "      <td>0</td>\n",
       "      <td>1</td>\n",
       "      <td>0</td>\n",
       "      <td>0</td>\n",
       "    </tr>\n",
       "    <tr>\n",
       "      <th>2</th>\n",
       "      <td>0</td>\n",
       "      <td>1</td>\n",
       "      <td>0</td>\n",
       "      <td>0</td>\n",
       "      <td>0</td>\n",
       "      <td>0</td>\n",
       "      <td>0</td>\n",
       "      <td>0</td>\n",
       "      <td>1</td>\n",
       "      <td>0</td>\n",
       "      <td>...</td>\n",
       "      <td>0</td>\n",
       "      <td>1</td>\n",
       "      <td>0</td>\n",
       "      <td>0</td>\n",
       "      <td>1</td>\n",
       "      <td>0</td>\n",
       "      <td>0</td>\n",
       "      <td>1</td>\n",
       "      <td>0</td>\n",
       "      <td>0</td>\n",
       "    </tr>\n",
       "    <tr>\n",
       "      <th>3</th>\n",
       "      <td>0</td>\n",
       "      <td>1</td>\n",
       "      <td>0</td>\n",
       "      <td>0</td>\n",
       "      <td>0</td>\n",
       "      <td>0</td>\n",
       "      <td>0</td>\n",
       "      <td>0</td>\n",
       "      <td>1</td>\n",
       "      <td>0</td>\n",
       "      <td>...</td>\n",
       "      <td>0</td>\n",
       "      <td>1</td>\n",
       "      <td>0</td>\n",
       "      <td>0</td>\n",
       "      <td>1</td>\n",
       "      <td>0</td>\n",
       "      <td>0</td>\n",
       "      <td>1</td>\n",
       "      <td>0</td>\n",
       "      <td>0</td>\n",
       "    </tr>\n",
       "    <tr>\n",
       "      <th>4</th>\n",
       "      <td>0</td>\n",
       "      <td>1</td>\n",
       "      <td>0</td>\n",
       "      <td>0</td>\n",
       "      <td>0</td>\n",
       "      <td>0</td>\n",
       "      <td>0</td>\n",
       "      <td>0</td>\n",
       "      <td>1</td>\n",
       "      <td>0</td>\n",
       "      <td>...</td>\n",
       "      <td>0</td>\n",
       "      <td>1</td>\n",
       "      <td>0</td>\n",
       "      <td>0</td>\n",
       "      <td>1</td>\n",
       "      <td>0</td>\n",
       "      <td>0</td>\n",
       "      <td>1</td>\n",
       "      <td>0</td>\n",
       "      <td>0</td>\n",
       "    </tr>\n",
       "  </tbody>\n",
       "</table>\n",
       "<p>5 rows × 53 columns</p>\n",
       "</div>"
      ],
      "text/plain": [
       "   contact_cellular  contact_telephone  month_apr  month_aug  month_dec  \\\n",
       "0                 0                  1          0          0          0   \n",
       "1                 0                  1          0          0          0   \n",
       "2                 0                  1          0          0          0   \n",
       "3                 0                  1          0          0          0   \n",
       "4                 0                  1          0          0          0   \n",
       "\n",
       "   month_jul  month_jun  month_mar  month_may  month_nov  ...  \\\n",
       "0          0          0          0          1          0  ...   \n",
       "1          0          0          0          1          0  ...   \n",
       "2          0          0          0          1          0  ...   \n",
       "3          0          0          0          1          0  ...   \n",
       "4          0          0          0          1          0  ...   \n",
       "\n",
       "   education_unknown  default_no  default_unknown  default_yes  housing_no  \\\n",
       "0                  0           1                0            0           1   \n",
       "1                  0           0                1            0           1   \n",
       "2                  0           1                0            0           1   \n",
       "3                  0           1                0            0           1   \n",
       "4                  0           1                0            0           1   \n",
       "\n",
       "   housing_unknown  housing_yes  loan_no  loan_unknown  loan_yes  \n",
       "0                0            0        0             0         1  \n",
       "1                0            0        1             0         0  \n",
       "2                0            0        1             0         0  \n",
       "3                0            0        1             0         0  \n",
       "4                0            0        1             0         0  \n",
       "\n",
       "[5 rows x 53 columns]"
      ]
     },
     "execution_count": 321,
     "metadata": {},
     "output_type": "execute_result"
    }
   ],
   "source": [
    "#one hot encoding on categorical varibles\n",
    "new_col_categorical = pd.get_dummies(df[col_categorical],drop_first = False)\n",
    "new_col_categorical.head()"
   ]
  },
  {
   "cell_type": "code",
   "execution_count": 322,
   "metadata": {},
   "outputs": [],
   "source": [
    "df = pd.concat([df,new_col_categorical],axis = 1)"
   ]
  },
  {
   "cell_type": "code",
   "execution_count": 323,
   "metadata": {},
   "outputs": [],
   "source": [
    "col_inp = col_numeric + list(new_col_categorical.columns)\n",
    "df_data = df[col_inp + ['FINAL_OUTVAR']]"
   ]
  },
  {
   "cell_type": "code",
   "execution_count": 324,
   "metadata": {},
   "outputs": [
    {
     "data": {
      "text/html": [
       "<div>\n",
       "<style scoped>\n",
       "    .dataframe tbody tr th:only-of-type {\n",
       "        vertical-align: middle;\n",
       "    }\n",
       "\n",
       "    .dataframe tbody tr th {\n",
       "        vertical-align: top;\n",
       "    }\n",
       "\n",
       "    .dataframe thead th {\n",
       "        text-align: right;\n",
       "    }\n",
       "</style>\n",
       "<table border=\"1\" class=\"dataframe\">\n",
       "  <thead>\n",
       "    <tr style=\"text-align: right;\">\n",
       "      <th></th>\n",
       "      <th>duration</th>\n",
       "      <th>campaign</th>\n",
       "      <th>pdays</th>\n",
       "      <th>previous</th>\n",
       "      <th>age</th>\n",
       "      <th>emp_var_rate</th>\n",
       "      <th>cons_price_idx</th>\n",
       "      <th>cons_conf_idx</th>\n",
       "      <th>euribor3m</th>\n",
       "      <th>nr_employed</th>\n",
       "      <th>...</th>\n",
       "      <th>default_no</th>\n",
       "      <th>default_unknown</th>\n",
       "      <th>default_yes</th>\n",
       "      <th>housing_no</th>\n",
       "      <th>housing_unknown</th>\n",
       "      <th>housing_yes</th>\n",
       "      <th>loan_no</th>\n",
       "      <th>loan_unknown</th>\n",
       "      <th>loan_yes</th>\n",
       "      <th>FINAL_OUTVAR</th>\n",
       "    </tr>\n",
       "  </thead>\n",
       "  <tbody>\n",
       "    <tr>\n",
       "      <th>0</th>\n",
       "      <td>307</td>\n",
       "      <td>1</td>\n",
       "      <td>999</td>\n",
       "      <td>0</td>\n",
       "      <td>56</td>\n",
       "      <td>1.1</td>\n",
       "      <td>93.994</td>\n",
       "      <td>-36.4</td>\n",
       "      <td>4.857</td>\n",
       "      <td>5191.0</td>\n",
       "      <td>...</td>\n",
       "      <td>1</td>\n",
       "      <td>0</td>\n",
       "      <td>0</td>\n",
       "      <td>1</td>\n",
       "      <td>0</td>\n",
       "      <td>0</td>\n",
       "      <td>0</td>\n",
       "      <td>0</td>\n",
       "      <td>1</td>\n",
       "      <td>0</td>\n",
       "    </tr>\n",
       "    <tr>\n",
       "      <th>1</th>\n",
       "      <td>198</td>\n",
       "      <td>1</td>\n",
       "      <td>999</td>\n",
       "      <td>0</td>\n",
       "      <td>45</td>\n",
       "      <td>1.1</td>\n",
       "      <td>93.994</td>\n",
       "      <td>-36.4</td>\n",
       "      <td>4.857</td>\n",
       "      <td>5191.0</td>\n",
       "      <td>...</td>\n",
       "      <td>0</td>\n",
       "      <td>1</td>\n",
       "      <td>0</td>\n",
       "      <td>1</td>\n",
       "      <td>0</td>\n",
       "      <td>0</td>\n",
       "      <td>1</td>\n",
       "      <td>0</td>\n",
       "      <td>0</td>\n",
       "      <td>0</td>\n",
       "    </tr>\n",
       "    <tr>\n",
       "      <th>2</th>\n",
       "      <td>389</td>\n",
       "      <td>1</td>\n",
       "      <td>999</td>\n",
       "      <td>0</td>\n",
       "      <td>32</td>\n",
       "      <td>1.1</td>\n",
       "      <td>93.994</td>\n",
       "      <td>-36.4</td>\n",
       "      <td>4.857</td>\n",
       "      <td>5191.0</td>\n",
       "      <td>...</td>\n",
       "      <td>1</td>\n",
       "      <td>0</td>\n",
       "      <td>0</td>\n",
       "      <td>1</td>\n",
       "      <td>0</td>\n",
       "      <td>0</td>\n",
       "      <td>1</td>\n",
       "      <td>0</td>\n",
       "      <td>0</td>\n",
       "      <td>0</td>\n",
       "    </tr>\n",
       "    <tr>\n",
       "      <th>3</th>\n",
       "      <td>158</td>\n",
       "      <td>1</td>\n",
       "      <td>999</td>\n",
       "      <td>0</td>\n",
       "      <td>36</td>\n",
       "      <td>1.1</td>\n",
       "      <td>93.994</td>\n",
       "      <td>-36.4</td>\n",
       "      <td>4.857</td>\n",
       "      <td>5191.0</td>\n",
       "      <td>...</td>\n",
       "      <td>1</td>\n",
       "      <td>0</td>\n",
       "      <td>0</td>\n",
       "      <td>1</td>\n",
       "      <td>0</td>\n",
       "      <td>0</td>\n",
       "      <td>1</td>\n",
       "      <td>0</td>\n",
       "      <td>0</td>\n",
       "      <td>0</td>\n",
       "    </tr>\n",
       "    <tr>\n",
       "      <th>4</th>\n",
       "      <td>196</td>\n",
       "      <td>2</td>\n",
       "      <td>999</td>\n",
       "      <td>0</td>\n",
       "      <td>31</td>\n",
       "      <td>1.1</td>\n",
       "      <td>93.994</td>\n",
       "      <td>-36.4</td>\n",
       "      <td>4.856</td>\n",
       "      <td>5191.0</td>\n",
       "      <td>...</td>\n",
       "      <td>1</td>\n",
       "      <td>0</td>\n",
       "      <td>0</td>\n",
       "      <td>1</td>\n",
       "      <td>0</td>\n",
       "      <td>0</td>\n",
       "      <td>1</td>\n",
       "      <td>0</td>\n",
       "      <td>0</td>\n",
       "      <td>0</td>\n",
       "    </tr>\n",
       "  </tbody>\n",
       "</table>\n",
       "<p>5 rows × 64 columns</p>\n",
       "</div>"
      ],
      "text/plain": [
       "   duration  campaign  pdays  previous  age  emp_var_rate  cons_price_idx  \\\n",
       "0       307         1    999         0   56           1.1          93.994   \n",
       "1       198         1    999         0   45           1.1          93.994   \n",
       "2       389         1    999         0   32           1.1          93.994   \n",
       "3       158         1    999         0   36           1.1          93.994   \n",
       "4       196         2    999         0   31           1.1          93.994   \n",
       "\n",
       "   cons_conf_idx  euribor3m  nr_employed  ...  default_no  default_unknown  \\\n",
       "0          -36.4      4.857       5191.0  ...           1                0   \n",
       "1          -36.4      4.857       5191.0  ...           0                1   \n",
       "2          -36.4      4.857       5191.0  ...           1                0   \n",
       "3          -36.4      4.857       5191.0  ...           1                0   \n",
       "4          -36.4      4.856       5191.0  ...           1                0   \n",
       "\n",
       "   default_yes  housing_no  housing_unknown  housing_yes  loan_no  \\\n",
       "0            0           1                0            0        0   \n",
       "1            0           1                0            0        1   \n",
       "2            0           1                0            0        1   \n",
       "3            0           1                0            0        1   \n",
       "4            0           1                0            0        1   \n",
       "\n",
       "   loan_unknown  loan_yes  FINAL_OUTVAR  \n",
       "0             0         1             0  \n",
       "1             0         0             0  \n",
       "2             0         0             0  \n",
       "3             0         0             0  \n",
       "4             0         0             0  \n",
       "\n",
       "[5 rows x 64 columns]"
      ]
     },
     "execution_count": 324,
     "metadata": {},
     "output_type": "execute_result"
    }
   ],
   "source": [
    "df_data.head(5)"
   ]
  },
  {
   "cell_type": "markdown",
   "metadata": {},
   "source": [
    "# Train Test Split"
   ]
  },
  {
   "cell_type": "code",
   "execution_count": 325,
   "metadata": {},
   "outputs": [],
   "source": [
    "##Split train test data\n",
    "df_data = df_data.sample(n = len(df_data), random_state = 42)\n",
    "df_data = df_data.reset_index(drop = True)"
   ]
  },
  {
   "cell_type": "code",
   "execution_count": 326,
   "metadata": {},
   "outputs": [],
   "source": [
    "df_valid_test = df_data.sample(frac = 0.30,random_state = 42)"
   ]
  },
  {
   "cell_type": "code",
   "execution_count": 327,
   "metadata": {},
   "outputs": [],
   "source": [
    "df_test = df_valid_test.sample(frac = 0.50,random_state=42)\n",
    "df_valid = df_valid_test.drop(df_test.index)"
   ]
  },
  {
   "cell_type": "code",
   "execution_count": 328,
   "metadata": {},
   "outputs": [],
   "source": [
    "df_train_all = df_data.drop(df_valid_test.index)"
   ]
  },
  {
   "cell_type": "code",
   "execution_count": 329,
   "metadata": {},
   "outputs": [
    {
     "name": "stdout",
     "output_type": "stream",
     "text": [
      "test distribution: FINAL_OUTVAR\n",
      "0    4917\n",
      "1     637\n",
      "dtype: int64\n",
      "valid distribution: FINAL_OUTVAR\n",
      "0    4914\n",
      "1     639\n",
      "dtype: int64\n",
      "train distribution: FINAL_OUTVAR\n",
      "0    22993\n",
      "1     2924\n",
      "dtype: int64\n"
     ]
    }
   ],
   "source": [
    "#check if new dfs are balanced or not\n",
    "print('test distribution:',(df_test.groupby('FINAL_OUTVAR').size()))\n",
    "print('valid distribution:',(df_valid.groupby('FINAL_OUTVAR').size()))\n",
    "print('train distribution:',(df_train_all.groupby('FINAL_OUTVAR').size()))"
   ]
  },
  {
   "cell_type": "code",
   "execution_count": 330,
   "metadata": {},
   "outputs": [
    {
     "name": "stdout",
     "output_type": "stream",
     "text": [
      "train distribution: FINAL_OUTVAR\n",
      "0    2924\n",
      "1    2924\n",
      "dtype: int64\n"
     ]
    }
   ],
   "source": [
    "#ABove stats confirms that its imbalance dataset. \n",
    "#split train data into positive and negatives\n",
    "rows_pos = df_train_all.FINAL_OUTVAR == 1\n",
    "df_train_pos = df_train_all.loc[rows_pos]\n",
    "df_train_neg = df_train_all.loc[~rows_pos]\n",
    "\n",
    "#merge balance data\n",
    "df_train = pd.concat([df_train_pos,df_train_neg.sample(n = len(df_train_pos), random_state = 42)],axis = 0)\n",
    "\n",
    "#shuffle samples\n",
    "df_train = df_train.sample(n = len(df_train), random_state = 42).reset_index(drop= True)\n",
    "\n",
    "print('train distribution:',(df_train.groupby('FINAL_OUTVAR').size()))"
   ]
  },
  {
   "cell_type": "code",
   "execution_count": 331,
   "metadata": {},
   "outputs": [
    {
     "name": "stdout",
     "output_type": "stream",
     "text": [
      "train distribution: FINAL_OUTVAR\n",
      "0    639\n",
      "1    639\n",
      "dtype: int64\n"
     ]
    }
   ],
   "source": [
    "#split valid data into positive and negatives\n",
    "rows_pos = df_valid.FINAL_OUTVAR == 1\n",
    "df_valid_pos = df_valid.loc[rows_pos]\n",
    "df_valid_neg = df_valid.loc[~rows_pos]\n",
    "\n",
    "#merge balance data\n",
    "df_valid = pd.concat([df_valid_pos,df_valid_neg.sample(n = len(df_valid_pos), random_state = 42)],axis = 0)\n",
    "\n",
    "#shuffle samples\n",
    "df_valid = df_valid.sample(n = len(df_valid), random_state = 42).reset_index(drop= True)\n",
    "\n",
    "print('train distribution:',(df_valid.groupby('FINAL_OUTVAR').size()))"
   ]
  },
  {
   "cell_type": "code",
   "execution_count": 332,
   "metadata": {},
   "outputs": [
    {
     "name": "stdout",
     "output_type": "stream",
     "text": [
      "train distribution: FINAL_OUTVAR\n",
      "0    639\n",
      "1    639\n",
      "dtype: int64\n"
     ]
    }
   ],
   "source": [
    "#split test data into positive and negatives\n",
    "rows_pos = df_test.FINAL_OUTVAR == 1\n",
    "df_test_pos = df_test.loc[rows_pos]\n",
    "df_test_neg = df_test.loc[~rows_pos]\n",
    "\n",
    "#merge balance data\n",
    "df_test = pd.concat([df_test_pos,df_test_neg.sample(n = len(df_test_pos), random_state = 42)],axis = 0)\n",
    "\n",
    "#shuffle samples\n",
    "df_test = df_test.sample(n = len(df_test), random_state = 42).reset_index(drop= True)\n",
    "\n",
    "print('train distribution:',(df_valid.groupby('FINAL_OUTVAR').size()))"
   ]
  },
  {
   "cell_type": "code",
   "execution_count": 333,
   "metadata": {},
   "outputs": [
    {
     "name": "stdout",
     "output_type": "stream",
     "text": [
      "training all shape: (25917, 63)\n",
      "train shape: (5848, 63) (5848,)\n",
      "valid shape: (1278, 63) (1278,)\n"
     ]
    }
   ],
   "source": [
    "##create x and y matrics for input to ML packages(isolating target varible)\n",
    "X_train = df_train[col_inp].values\n",
    "X_train_all = df_train_all[col_inp].values\n",
    "X_valid = df_valid[col_inp].values\n",
    "\n",
    "y_train = df_train['FINAL_OUTVAR'].values\n",
    "y_valid = df_valid['FINAL_OUTVAR'].values\n",
    "\n",
    "print('training all shape:',X_train_all.shape)\n",
    "print('train shape:',X_train.shape,y_train.shape)\n",
    "print('valid shape:',X_valid.shape,y_valid.shape)"
   ]
  },
  {
   "cell_type": "code",
   "execution_count": 334,
   "metadata": {},
   "outputs": [],
   "source": [
    "from sklearn.preprocessing import StandardScaler"
   ]
  },
  {
   "cell_type": "code",
   "execution_count": 335,
   "metadata": {},
   "outputs": [
    {
     "data": {
      "text/html": [
       "<style>#sk-container-id-7 {color: black;background-color: white;}#sk-container-id-7 pre{padding: 0;}#sk-container-id-7 div.sk-toggleable {background-color: white;}#sk-container-id-7 label.sk-toggleable__label {cursor: pointer;display: block;width: 100%;margin-bottom: 0;padding: 0.3em;box-sizing: border-box;text-align: center;}#sk-container-id-7 label.sk-toggleable__label-arrow:before {content: \"▸\";float: left;margin-right: 0.25em;color: #696969;}#sk-container-id-7 label.sk-toggleable__label-arrow:hover:before {color: black;}#sk-container-id-7 div.sk-estimator:hover label.sk-toggleable__label-arrow:before {color: black;}#sk-container-id-7 div.sk-toggleable__content {max-height: 0;max-width: 0;overflow: hidden;text-align: left;background-color: #f0f8ff;}#sk-container-id-7 div.sk-toggleable__content pre {margin: 0.2em;color: black;border-radius: 0.25em;background-color: #f0f8ff;}#sk-container-id-7 input.sk-toggleable__control:checked~div.sk-toggleable__content {max-height: 200px;max-width: 100%;overflow: auto;}#sk-container-id-7 input.sk-toggleable__control:checked~label.sk-toggleable__label-arrow:before {content: \"▾\";}#sk-container-id-7 div.sk-estimator input.sk-toggleable__control:checked~label.sk-toggleable__label {background-color: #d4ebff;}#sk-container-id-7 div.sk-label input.sk-toggleable__control:checked~label.sk-toggleable__label {background-color: #d4ebff;}#sk-container-id-7 input.sk-hidden--visually {border: 0;clip: rect(1px 1px 1px 1px);clip: rect(1px, 1px, 1px, 1px);height: 1px;margin: -1px;overflow: hidden;padding: 0;position: absolute;width: 1px;}#sk-container-id-7 div.sk-estimator {font-family: monospace;background-color: #f0f8ff;border: 1px dotted black;border-radius: 0.25em;box-sizing: border-box;margin-bottom: 0.5em;}#sk-container-id-7 div.sk-estimator:hover {background-color: #d4ebff;}#sk-container-id-7 div.sk-parallel-item::after {content: \"\";width: 100%;border-bottom: 1px solid gray;flex-grow: 1;}#sk-container-id-7 div.sk-label:hover label.sk-toggleable__label {background-color: #d4ebff;}#sk-container-id-7 div.sk-serial::before {content: \"\";position: absolute;border-left: 1px solid gray;box-sizing: border-box;top: 0;bottom: 0;left: 50%;z-index: 0;}#sk-container-id-7 div.sk-serial {display: flex;flex-direction: column;align-items: center;background-color: white;padding-right: 0.2em;padding-left: 0.2em;position: relative;}#sk-container-id-7 div.sk-item {position: relative;z-index: 1;}#sk-container-id-7 div.sk-parallel {display: flex;align-items: stretch;justify-content: center;background-color: white;position: relative;}#sk-container-id-7 div.sk-item::before, #sk-container-id-7 div.sk-parallel-item::before {content: \"\";position: absolute;border-left: 1px solid gray;box-sizing: border-box;top: 0;bottom: 0;left: 50%;z-index: -1;}#sk-container-id-7 div.sk-parallel-item {display: flex;flex-direction: column;z-index: 1;position: relative;background-color: white;}#sk-container-id-7 div.sk-parallel-item:first-child::after {align-self: flex-end;width: 50%;}#sk-container-id-7 div.sk-parallel-item:last-child::after {align-self: flex-start;width: 50%;}#sk-container-id-7 div.sk-parallel-item:only-child::after {width: 0;}#sk-container-id-7 div.sk-dashed-wrapped {border: 1px dashed gray;margin: 0 0.4em 0.5em 0.4em;box-sizing: border-box;padding-bottom: 0.4em;background-color: white;}#sk-container-id-7 div.sk-label label {font-family: monospace;font-weight: bold;display: inline-block;line-height: 1.2em;}#sk-container-id-7 div.sk-label-container {text-align: center;}#sk-container-id-7 div.sk-container {/* jupyter's `normalize.less` sets `[hidden] { display: none; }` but bootstrap.min.css set `[hidden] { display: none !important; }` so we also need the `!important` here to be able to override the default hidden behavior on the sphinx rendered scikit-learn.org. See: https://github.com/scikit-learn/scikit-learn/issues/21755 */display: inline-block !important;position: relative;}#sk-container-id-7 div.sk-text-repr-fallback {display: none;}</style><div id=\"sk-container-id-7\" class=\"sk-top-container\"><div class=\"sk-text-repr-fallback\"><pre>StandardScaler()</pre><b>In a Jupyter environment, please rerun this cell to show the HTML representation or trust the notebook. <br />On GitHub, the HTML representation is unable to render, please try loading this page with nbviewer.org.</b></div><div class=\"sk-container\" hidden><div class=\"sk-item\"><div class=\"sk-estimator sk-toggleable\"><input class=\"sk-toggleable__control sk-hidden--visually\" id=\"sk-estimator-id-7\" type=\"checkbox\" checked><label for=\"sk-estimator-id-7\" class=\"sk-toggleable__label sk-toggleable__label-arrow\">StandardScaler</label><div class=\"sk-toggleable__content\"><pre>StandardScaler()</pre></div></div></div></div></div>"
      ],
      "text/plain": [
       "StandardScaler()"
      ]
     },
     "execution_count": 335,
     "metadata": {},
     "output_type": "execute_result"
    }
   ],
   "source": [
    "scalar = StandardScaler()\n",
    "scalar.fit(X_train_all)"
   ]
  },
  {
   "cell_type": "code",
   "execution_count": 336,
   "metadata": {},
   "outputs": [],
   "source": [
    "X_train_tf = scalar.transform(X_train)\n",
    "X_valid_tf = scalar.transform(X_valid)"
   ]
  },
  {
   "cell_type": "code",
   "execution_count": 337,
   "metadata": {},
   "outputs": [],
   "source": [
    "import time \n",
    "from sklearn.metrics import confusion_matrix, accuracy_score, classification_report\n",
    "from sklearn.metrics import roc_curve, auc"
   ]
  },
  {
   "cell_type": "markdown",
   "metadata": {},
   "source": [
    "# KNN"
   ]
  },
  {
   "cell_type": "code",
   "execution_count": 338,
   "metadata": {},
   "outputs": [],
   "source": [
    " from sklearn.neighbors import KNeighborsClassifier"
   ]
  },
  {
   "cell_type": "code",
   "execution_count": 339,
   "metadata": {},
   "outputs": [
    {
     "name": "stdout",
     "output_type": "stream",
     "text": [
      "\n",
      "KNN model \n",
      "\n",
      "Classification report for test data:\n",
      "\n",
      "               precision    recall  f1-score   support\n",
      "\n",
      "           0       0.73      0.88      0.80       639\n",
      "           1       0.85      0.67      0.75       639\n",
      "\n",
      "    accuracy                           0.77      1278\n",
      "   macro avg       0.79      0.77      0.77      1278\n",
      "weighted avg       0.79      0.77      0.77      1278\n",
      "\n",
      "\n",
      "Confusion matrix for test data:\n",
      " [[561  78]\n",
      " [210 429]]\n",
      "\n",
      "Sensitivity :  0.8461538461538461\n",
      "Specificity :  0.7276264591439688\n",
      "\n",
      "Execution time for Model: 0.234515 seconds\n"
     ]
    }
   ],
   "source": [
    "knn = KNeighborsClassifier(n_neighbors=100)\n",
    "t1 = time.time()\n",
    "knn.fit(X_train_tf,y_train)\n",
    "pred1 = knn.predict(X_valid_tf)\n",
    "t2 = time.time()\n",
    "ts1 = accuracy_score(y_valid, pred1)*100  #test accuracy\n",
    "trn1 = accuracy_score(y_train, knn.predict(X_train_tf))*100  #train accuracy\n",
    "cmdt = confusion_matrix(y_valid, pred1)  \n",
    "Sen1 = cmdt[1,1]/(cmdt[1,1]+cmdt[0,1])\n",
    "Spc1 = cmdt[0,0]/(cmdt[0,0]+cmdt[1,0])\n",
    "fnr1 = 1-Sen1\n",
    "print('\\nKNN model \\n\\nClassification report for test data:\\n\\n',classification_report(y_valid, pred1))\n",
    "print('\\nConfusion matrix for test data:\\n', cmdt)\n",
    "print('\\nSensitivity : ', cmdt[1,1]/(cmdt[1,1]+cmdt[0,1])) \n",
    "print('Specificity : ', cmdt[0,0]/(cmdt[0,0]+cmdt[1,0]))\n",
    "print('\\nExecution time for Model: %f seconds' %((t2-t1)))\n"
   ]
  },
  {
   "cell_type": "code",
   "execution_count": 340,
   "metadata": {},
   "outputs": [
    {
     "name": "stdout",
     "output_type": "stream",
     "text": [
      "True Neg:561\n",
      "False Pos:78\n",
      "False Neg:210\n",
      "True Pos:429\n"
     ]
    },
    {
     "data": {
      "image/png": "[encoded data removed]",
      "text/plain": [
       "<Figure size 360x360 with 2 Axes>"
      ]
     },
     "metadata": {
      "needs_background": "light"
     },
     "output_type": "display_data"
    }
   ],
   "source": [
    "tn,fp,fn,tp = confusion_matrix(y_valid,pred1).ravel()\n",
    "print(f'True Neg:{tn}')\n",
    "print(f'False Pos:{fp}')\n",
    "print(f'False Neg:{fn}')\n",
    "print(f'True Pos:{tp}') \n",
    "#confusion matrix heat map\n",
    "f,ax=plt.subplots(figsize=(5,5))\n",
    "sns.heatmap(cmdt,annot = True,linewidths=0.5,linecolor=\"red\",fmt=\".0f\",ax=ax)\n",
    "plt.xlabel(\"pred1\")\n",
    "plt.ylabel(\"y_valid\")\n",
    "plt.show()"
   ]
  },
  {
   "cell_type": "code",
   "execution_count": 341,
   "metadata": {},
   "outputs": [
    {
     "data": {
      "image/png": "[encoded data removed]",
      "text/plain": [
       "<Figure size 432x288 with 1 Axes>"
      ]
     },
     "metadata": {
      "needs_background": "light"
     },
     "output_type": "display_data"
    }
   ],
   "source": [
    "#roc curve\n",
    "fpr1,tpr1,thres1 = roc_curve(y_valid, pred1)   \n",
    "roc_auc1 = auc(fpr1, tpr1)   \n",
    "plt.title('KNNClassifier - Receiver Operating Characteristic Test Data') \n",
    "plt.plot(fpr1, tpr1, color ='green', lw = 2, label='KNNClassifier ROC curve (area = %0.2f)' % roc_auc1) \n",
    "plt.legend(loc='lower right')    \n",
    "plt.plot([0,1],[0,1],'r--')      \n",
    "plt.xlim([-0.1,1.2])\n",
    "plt.ylim([-0.1,1.2])             \n",
    "plt.xlabel('False Positive Rate')  \n",
    "plt.ylabel('True Positive Rate')\n",
    "plt.show()"
   ]
  },
  {
   "cell_type": "markdown",
   "metadata": {},
   "source": [
    "# Logistic Regression"
   ]
  },
  {
   "cell_type": "code",
   "execution_count": 342,
   "metadata": {},
   "outputs": [],
   "source": [
    "from sklearn.linear_model import LogisticRegression"
   ]
  },
  {
   "cell_type": "code",
   "execution_count": 343,
   "metadata": {},
   "outputs": [
    {
     "name": "stdout",
     "output_type": "stream",
     "text": [
      "\n",
      "LogisticRegression model \n",
      "\n",
      "Classification report for test data:\n",
      "\n",
      "               precision    recall  f1-score   support\n",
      "\n",
      "           0       0.90      0.84      0.87       639\n",
      "           1       0.85      0.90      0.88       639\n",
      "\n",
      "    accuracy                           0.87      1278\n",
      "   macro avg       0.87      0.87      0.87      1278\n",
      "weighted avg       0.87      0.87      0.87      1278\n",
      "\n",
      "\n",
      "Confusion matrix for test data:\n",
      " [[538 101]\n",
      " [ 61 578]]\n",
      "\n",
      "Sensitivity :  0.8512518409425626\n",
      "Specificity :  0.8981636060100167\n",
      "\n",
      "Execution time for Model: 0.353529 seconds\n"
     ]
    }
   ],
   "source": [
    "lr = LogisticRegression(random_state = 42)\n",
    "t1 = time.time()\n",
    "lr.fit(X_train_tf,y_train)\n",
    "pred2 = lr.predict(X_valid_tf)\n",
    "t2 = time.time()\n",
    "ts2  = accuracy_score(y_valid, pred2)*100  #test accuracy\n",
    "trn2 = accuracy_score(y_train, lr.predict(X_train_tf))*100  #train accuracy\n",
    "cmdt = confusion_matrix(y_valid, pred2)  \n",
    "Sen2 = cmdt[1,1]/(cmdt[1,1]+cmdt[0,1])\n",
    "Spc2 = cmdt[0,0]/(cmdt[0,0]+cmdt[1,0])\n",
    "fnr2 = 1-Sen2\n",
    "print('\\nLogisticRegression model \\n\\nClassification report for test data:\\n\\n',classification_report(y_valid, pred2))\n",
    "print('\\nConfusion matrix for test data:\\n', cmdt)\n",
    "print('\\nSensitivity : ', cmdt[1,1]/(cmdt[1,1]+cmdt[0,1])) \n",
    "print('Specificity : ', cmdt[0,0]/(cmdt[0,0]+cmdt[1,0]))\n",
    "print('\\nExecution time for Model: %f seconds' %((t2-t1)))"
   ]
  },
  {
   "cell_type": "code",
   "execution_count": 344,
   "metadata": {},
   "outputs": [
    {
     "name": "stdout",
     "output_type": "stream",
     "text": [
      "True Neg:538\n",
      "False Pos:101\n",
      "False Neg:61\n",
      "True Pos:578\n"
     ]
    },
    {
     "data": {
      "image/png": "[encoded data removed]",
      "text/plain": [
       "<Figure size 360x360 with 2 Axes>"
      ]
     },
     "metadata": {
      "needs_background": "light"
     },
     "output_type": "display_data"
    }
   ],
   "source": [
    "tn,fp,fn,tp = confusion_matrix(y_valid,pred2).ravel()\n",
    "print(f'True Neg:{tn}')\n",
    "print(f'False Pos:{fp}')\n",
    "print(f'False Neg:{fn}')\n",
    "print(f'True Pos:{tp}') \n",
    "#confusion matrix heat map\n",
    "f,ax=plt.subplots(figsize=(5,5))\n",
    "sns.heatmap(cmdt,annot = True,linewidths=0.5,linecolor=\"red\",fmt=\".0f\",ax=ax)\n",
    "plt.xlabel(\"pred2\")\n",
    "plt.ylabel(\"y_valid\")\n",
    "plt.show()"
   ]
  },
  {
   "cell_type": "code",
   "execution_count": 345,
   "metadata": {},
   "outputs": [
    {
     "data": {
      "image/png": "[encoded data removed]",
      "text/plain": [
       "<Figure size 432x288 with 1 Axes>"
      ]
     },
     "metadata": {
      "needs_background": "light"
     },
     "output_type": "display_data"
    }
   ],
   "source": [
    "#roc curve\n",
    "fpr2,tpr2,thres2 = roc_curve(y_valid, pred2) \n",
    "roc_auc2 = auc(fpr2, tpr2)\n",
    "plt.title('LogisticRegression - Receiver Operating Characteristic Test Data') \n",
    "plt.plot(fpr2, tpr2, color ='green', lw = 2, label='LogisticRegression ROC curve (area = %0.2f)' % roc_auc2)\n",
    "plt.legend(loc='lower right')    \n",
    "plt.plot([0,1],[0,1],'r--')      \n",
    "plt.xlim([-0.1,1.2])\n",
    "plt.ylim([-0.1,1.2])             \n",
    "plt.xlabel('False Positive Rate')  \n",
    "plt.ylabel('True Positive Rate')\n",
    "plt.show()"
   ]
  },
  {
   "cell_type": "markdown",
   "metadata": {},
   "source": [
    "# Naive Bayes"
   ]
  },
  {
   "cell_type": "code",
   "execution_count": 346,
   "metadata": {},
   "outputs": [],
   "source": [
    "from sklearn.naive_bayes import GaussianNB  "
   ]
  },
  {
   "cell_type": "code",
   "execution_count": 347,
   "metadata": {},
   "outputs": [
    {
     "name": "stdout",
     "output_type": "stream",
     "text": [
      "\n",
      "NB model \n",
      "\n",
      "Classification report for test data:\n",
      "\n",
      "               precision    recall  f1-score   support\n",
      "\n",
      "           0       0.61      0.95      0.74       639\n",
      "           1       0.88      0.38      0.53       639\n",
      "\n",
      "    accuracy                           0.67      1278\n",
      "   macro avg       0.74      0.67      0.64      1278\n",
      "weighted avg       0.74      0.67      0.64      1278\n",
      "\n",
      "\n",
      "Confusion matrix for test data:\n",
      " [[607  32]\n",
      " [395 244]]\n",
      "\n",
      "Sensitivity :  0.8840579710144928\n",
      "Specificity :  0.6057884231536926\n",
      "\n",
      "Execution time for Model: 0.014849 seconds\n"
     ]
    }
   ],
   "source": [
    "nb = GaussianNB()  \n",
    "t1 = time.time()\n",
    "nb.fit(X_train_tf,y_train)\n",
    "pred3 = nb.predict(X_valid_tf)\n",
    "t2 = time.time()\n",
    "ts3 = accuracy_score(y_valid, pred3)*100  #test accuracy\n",
    "trn3 = accuracy_score(y_train, nb.predict(X_train_tf))*100  #train accuracy\n",
    "cmdt = confusion_matrix(y_valid, pred3)\n",
    "Sen3 = cmdt[1,1]/(cmdt[1,1]+cmdt[0,1])\n",
    "Spc3 = cmdt[0,0]/(cmdt[0,0]+cmdt[1,0])\n",
    "fnr3 = 1-Sen3\n",
    "print('\\nNB model \\n\\nClassification report for test data:\\n\\n',classification_report(y_valid, pred3))\n",
    "print('\\nConfusion matrix for test data:\\n', cmdt)\n",
    "print('\\nSensitivity : ', cmdt[1,1]/(cmdt[1,1]+cmdt[0,1])) \n",
    "print('Specificity : ', cmdt[0,0]/(cmdt[0,0]+cmdt[1,0]))\n",
    "print('\\nExecution time for Model: %f seconds' %((t2-t1)))"
   ]
  },
  {
   "cell_type": "code",
   "execution_count": 348,
   "metadata": {},
   "outputs": [
    {
     "name": "stdout",
     "output_type": "stream",
     "text": [
      "True Neg:607\n",
      "False Pos:32\n",
      "False Neg:395\n",
      "True Pos:244\n"
     ]
    },
    {
     "data": {
      "image/png": "[encoded data removed]",
      "text/plain": [
       "<Figure size 360x360 with 2 Axes>"
      ]
     },
     "metadata": {
      "needs_background": "light"
     },
     "output_type": "display_data"
    }
   ],
   "source": [
    "tn,fp,fn,tp = confusion_matrix(y_valid,pred3).ravel()\n",
    "print(f'True Neg:{tn}')\n",
    "print(f'False Pos:{fp}')\n",
    "print(f'False Neg:{fn}')\n",
    "print(f'True Pos:{tp}') \n",
    "#confusion matrix heat map\n",
    "f,ax=plt.subplots(figsize=(5,5))\n",
    "sns.heatmap(cmdt,annot = True,linewidths=0.5,linecolor=\"red\",fmt=\".0f\",ax=ax)\n",
    "plt.xlabel(\"pred3\")\n",
    "plt.ylabel(\"y_valid\")\n",
    "plt.show()"
   ]
  },
  {
   "cell_type": "code",
   "execution_count": 349,
   "metadata": {},
   "outputs": [
    {
     "data": {
      "image/png": "[encoded data removed]",
      "text/plain": [
       "<Figure size 432x288 with 1 Axes>"
      ]
     },
     "metadata": {
      "needs_background": "light"
     },
     "output_type": "display_data"
    }
   ],
   "source": [
    "#roc curve\n",
    "fpr3,tpr3,thres3 = roc_curve(y_valid, pred3) \n",
    "roc_auc3 = auc(fpr3, tpr3)\n",
    "plt.title('NaiveBayes - Receiver Operating Characteristic Test Data') \n",
    "plt.plot(fpr3, tpr3, color ='green', lw = 2, label='NaiveBayes ROC curve (area = %0.2f)' % roc_auc3)\n",
    "plt.legend(loc='lower right')    \n",
    "plt.plot([0,1],[0,1],'r--')      \n",
    "plt.xlim([-0.1,1.2])\n",
    "plt.ylim([-0.1,1.2])             \n",
    "plt.xlabel('False Positive Rate')  \n",
    "plt.ylabel('True Positive Rate')\n",
    "plt.show()"
   ]
  },
  {
   "cell_type": "markdown",
   "metadata": {},
   "source": [
    "# Decision Tree"
   ]
  },
  {
   "cell_type": "code",
   "execution_count": 350,
   "metadata": {},
   "outputs": [],
   "source": [
    "from sklearn.tree import DecisionTreeClassifier"
   ]
  },
  {
   "cell_type": "code",
   "execution_count": 351,
   "metadata": {},
   "outputs": [
    {
     "name": "stdout",
     "output_type": "stream",
     "text": [
      "\n",
      "DecisionTree model \n",
      "\n",
      "Classification report for test data:\n",
      "\n",
      "               precision    recall  f1-score   support\n",
      "\n",
      "           0       0.88      0.83      0.85       639\n",
      "           1       0.84      0.88      0.86       639\n",
      "\n",
      "    accuracy                           0.86      1278\n",
      "   macro avg       0.86      0.86      0.86      1278\n",
      "weighted avg       0.86      0.86      0.86      1278\n",
      "\n",
      "\n",
      "Confusion matrix for test data:\n",
      " [[530 109]\n",
      " [ 74 565]]\n",
      "\n",
      "Sensitivity :  0.8382789317507419\n",
      "Specificity :  0.8774834437086093\n",
      "\n",
      "Execution time for Model: 0.068548 seconds\n"
     ]
    }
   ],
   "source": [
    "tree = DecisionTreeClassifier(max_depth = 10,criterion = 'gini',random_state = 42)  \n",
    "t1 = time.time()\n",
    "tree.fit(X_train_tf,y_train)\n",
    "pred4 = tree.predict(X_valid_tf)\n",
    "t2 = time.time()\n",
    "ts4 = accuracy_score(y_valid, pred4)*100  #test accuracy\n",
    "trn4 = accuracy_score(y_train, tree.predict(X_train_tf))*100  #train accuracy\n",
    "cmdt = confusion_matrix(y_valid, pred4)\n",
    "Sen4 = cmdt[1,1]/(cmdt[1,1]+cmdt[0,1])\n",
    "Spc4 = cmdt[0,0]/(cmdt[0,0]+cmdt[1,0])\n",
    "fnr4 = 1-Sen4\n",
    "print('\\nDecisionTree model \\n\\nClassification report for test data:\\n\\n',classification_report(y_valid, pred4))\n",
    "print('\\nConfusion matrix for test data:\\n', cmdt)\n",
    "print('\\nSensitivity : ', cmdt[1,1]/(cmdt[1,1]+cmdt[0,1])) \n",
    "print('Specificity : ', cmdt[0,0]/(cmdt[0,0]+cmdt[1,0]))\n",
    "print('\\nExecution time for Model: %f seconds' %((t2-t1)))"
   ]
  },
  {
   "cell_type": "code",
   "execution_count": 352,
   "metadata": {},
   "outputs": [
    {
     "name": "stdout",
     "output_type": "stream",
     "text": [
      "True Neg:530\n",
      "False Pos:109\n",
      "False Neg:74\n",
      "True Pos:565\n"
     ]
    },
    {
     "data": {
      "image/png": "[encoded data removed]",
      "text/plain": [
       "<Figure size 360x360 with 2 Axes>"
      ]
     },
     "metadata": {
      "needs_background": "light"
     },
     "output_type": "display_data"
    }
   ],
   "source": [
    "tn,fp,fn,tp = confusion_matrix(y_valid,pred4).ravel()\n",
    "print(f'True Neg:{tn}')\n",
    "print(f'False Pos:{fp}')\n",
    "print(f'False Neg:{fn}')\n",
    "print(f'True Pos:{tp}') \n",
    "#confusion matrix heat map\n",
    "f,ax=plt.subplots(figsize=(5,5))\n",
    "sns.heatmap(cmdt,annot = True,linewidths=0.5,linecolor=\"red\",fmt=\".0f\",ax=ax)\n",
    "plt.xlabel(\"pred4\")\n",
    "plt.ylabel(\"y_valid\")\n",
    "plt.show()"
   ]
  },
  {
   "cell_type": "code",
   "execution_count": 353,
   "metadata": {},
   "outputs": [
    {
     "data": {
      "image/png": "[encoded data removed]",
      "text/plain": [
       "<Figure size 432x288 with 1 Axes>"
      ]
     },
     "metadata": {
      "needs_background": "light"
     },
     "output_type": "display_data"
    }
   ],
   "source": [
    "#roc curve\n",
    "fpr4,tpr4,thres4 = roc_curve(y_valid, pred4) \n",
    "roc_auc4 = auc(fpr4, tpr4)\n",
    "plt.title('DecisionTree - Receiver Operating Characteristic Test Data') \n",
    "plt.plot(fpr4, tpr4, color ='green', lw = 2, label='DecisionTree ROC curve (area = %0.2f)' % roc_auc4)\n",
    "plt.legend(loc='lower right')    \n",
    "plt.plot([0,1],[0,1],'r--')      \n",
    "plt.xlim([-0.1,1.2])\n",
    "plt.ylim([-0.1,1.2])             \n",
    "plt.xlabel('False Positive Rate')  \n",
    "plt.ylabel('True Positive Rate')\n",
    "plt.show()"
   ]
  },
  {
   "cell_type": "markdown",
   "metadata": {},
   "source": [
    "# Random Forest"
   ]
  },
  {
   "cell_type": "code",
   "execution_count": 354,
   "metadata": {},
   "outputs": [],
   "source": [
    "from sklearn.ensemble import RandomForestClassifier"
   ]
  },
  {
   "cell_type": "code",
   "execution_count": 355,
   "metadata": {},
   "outputs": [
    {
     "name": "stdout",
     "output_type": "stream",
     "text": [
      "\n",
      "RandomForest model \n",
      "\n",
      "Classification report for test data:\n",
      "\n",
      "               precision    recall  f1-score   support\n",
      "\n",
      "           0       0.87      0.82      0.84       639\n",
      "           1       0.83      0.88      0.85       639\n",
      "\n",
      "    accuracy                           0.85      1278\n",
      "   macro avg       0.85      0.85      0.85      1278\n",
      "weighted avg       0.85      0.85      0.85      1278\n",
      "\n",
      "\n",
      "Confusion matrix for test data:\n",
      " [[523 116]\n",
      " [ 76 563]]\n",
      "\n",
      "Sensitivity :  0.8291605301914581\n",
      "Specificity :  0.8731218697829716\n",
      "\n",
      "Execution time for Model: 0.522517 seconds\n"
     ]
    }
   ],
   "source": [
    "RF = RandomForestClassifier(max_depth = 6,random_state = 42)  \n",
    "t1 = time.time()\n",
    "RF.fit(X_train_tf,y_train)\n",
    "pred5 = RF.predict(X_valid_tf)\n",
    "t2 = time.time()\n",
    "ts5 = accuracy_score(y_valid, pred5)*100  #test accuracy\n",
    "trn5 = accuracy_score(y_train, RF.predict(X_train_tf))*100  #train accuracy\n",
    "cmdt = confusion_matrix(y_valid, pred5)\n",
    "Sen5 = cmdt[1,1]/(cmdt[1,1]+cmdt[0,1])\n",
    "Spc5 = cmdt[0,0]/(cmdt[0,0]+cmdt[1,0])\n",
    "fnr5 = 1-Sen5\n",
    "print('\\nRandomForest model \\n\\nClassification report for test data:\\n\\n',classification_report(y_valid, pred5))\n",
    "print('\\nConfusion matrix for test data:\\n', cmdt)\n",
    "print('\\nSensitivity : ', cmdt[1,1]/(cmdt[1,1]+cmdt[0,1])) \n",
    "print('Specificity : ', cmdt[0,0]/(cmdt[0,0]+cmdt[1,0]))\n",
    "print('\\nExecution time for Model: %f seconds' %((t2-t1)))"
   ]
  },
  {
   "cell_type": "code",
   "execution_count": 356,
   "metadata": {},
   "outputs": [
    {
     "name": "stdout",
     "output_type": "stream",
     "text": [
      "True Neg:523\n",
      "False Pos:116\n",
      "False Neg:76\n",
      "True Pos:563\n"
     ]
    },
    {
     "data": {
      "image/png": "[encoded data removed]",
      "text/plain": [
       "<Figure size 360x360 with 2 Axes>"
      ]
     },
     "metadata": {
      "needs_background": "light"
     },
     "output_type": "display_data"
    }
   ],
   "source": [
    "tn,fp,fn,tp = confusion_matrix(y_valid,pred5).ravel()\n",
    "print(f'True Neg:{tn}')\n",
    "print(f'False Pos:{fp}')\n",
    "print(f'False Neg:{fn}')\n",
    "print(f'True Pos:{tp}') \n",
    "#confusion matrix heat map\n",
    "f,ax=plt.subplots(figsize=(5,5))\n",
    "sns.heatmap(cmdt,annot = True,linewidths=0.5,linecolor=\"red\",fmt=\".0f\",ax=ax)\n",
    "plt.xlabel(\"pred5\")\n",
    "plt.ylabel(\"y_valid\")\n",
    "plt.show()"
   ]
  },
  {
   "cell_type": "code",
   "execution_count": 357,
   "metadata": {},
   "outputs": [
    {
     "data": {
      "image/png": "[encoded data removed]",
      "text/plain": [
       "<Figure size 432x288 with 1 Axes>"
      ]
     },
     "metadata": {
      "needs_background": "light"
     },
     "output_type": "display_data"
    }
   ],
   "source": [
    "#roc curve\n",
    "fpr5,tpr5,thres5 = roc_curve(y_valid, pred5) \n",
    "roc_auc5 = auc(fpr5, tpr5)\n",
    "plt.title('RandomForest - Receiver Operating Characteristic Test Data') \n",
    "plt.plot(fpr5, tpr5, color ='green', lw = 2, label='RandomForest ROC curve (area = %0.2f)' % roc_auc5)\n",
    "plt.legend(loc='lower right')    \n",
    "plt.plot([0,1],[0,1],'r--')      \n",
    "plt.xlim([-0.1,1.2])\n",
    "plt.ylim([-0.1,1.2])             \n",
    "plt.xlabel('False Positive Rate')  \n",
    "plt.ylabel('True Positive Rate')\n",
    "plt.show()"
   ]
  },
  {
   "cell_type": "markdown",
   "metadata": {},
   "source": [
    "# Gradientboosting"
   ]
  },
  {
   "cell_type": "code",
   "execution_count": 358,
   "metadata": {},
   "outputs": [],
   "source": [
    "from sklearn.ensemble import GradientBoostingClassifier"
   ]
  },
  {
   "cell_type": "code",
   "execution_count": 359,
   "metadata": {},
   "outputs": [
    {
     "name": "stdout",
     "output_type": "stream",
     "text": [
      "\n",
      "GradientBoosting model \n",
      "\n",
      "Classification report for test data:\n",
      "\n",
      "               precision    recall  f1-score   support\n",
      "\n",
      "           0       0.90      0.83      0.86       639\n",
      "           1       0.84      0.91      0.87       639\n",
      "\n",
      "    accuracy                           0.87      1278\n",
      "   macro avg       0.87      0.87      0.87      1278\n",
      "weighted avg       0.87      0.87      0.87      1278\n",
      "\n",
      "\n",
      "Confusion matrix for test data:\n",
      " [[528 111]\n",
      " [ 59 580]]\n",
      "\n",
      "Sensitivity :  0.8393632416787264\n",
      "Specificity :  0.899488926746167\n",
      "\n",
      "Execution time for Model: 1.427830 seconds\n"
     ]
    }
   ],
   "source": [
    "gb = GradientBoostingClassifier(max_depth=3,n_estimators=100, learning_rate=1.0,random_state=42)\n",
    "t1 = time.time()\n",
    "gb.fit(X_train_tf,y_train)\n",
    "pred6 = gb.predict(X_valid_tf)\n",
    "t2 = time.time()\n",
    "ts6 = accuracy_score(y_valid, pred6)*100  #test accuracy\n",
    "trn6 = accuracy_score(y_train, gb.predict(X_train_tf))*100  #train accuracy\n",
    "cmdt = confusion_matrix(y_valid, pred6)\n",
    "Sen6 = cmdt[1,1]/(cmdt[1,1]+cmdt[0,1])\n",
    "Spc6 = cmdt[0,0]/(cmdt[0,0]+cmdt[1,0])\n",
    "fnr6 = 1-Sen6\n",
    "print('\\nGradientBoosting model \\n\\nClassification report for test data:\\n\\n',classification_report(y_valid, pred6))\n",
    "print('\\nConfusion matrix for test data:\\n', cmdt)\n",
    "print('\\nSensitivity : ', cmdt[1,1]/(cmdt[1,1]+cmdt[0,1])) \n",
    "print('Specificity : ', cmdt[0,0]/(cmdt[0,0]+cmdt[1,0]))\n",
    "print('\\nExecution time for Model: %f seconds' %((t2-t1)))"
   ]
  },
  {
   "cell_type": "code",
   "execution_count": 360,
   "metadata": {},
   "outputs": [
    {
     "name": "stdout",
     "output_type": "stream",
     "text": [
      "True Neg:528\n",
      "False Pos:111\n",
      "False Neg:59\n",
      "True Pos:580\n"
     ]
    },
    {
     "data": {
      "image/png": "[encoded data removed]",
      "text/plain": [
       "<Figure size 360x360 with 2 Axes>"
      ]
     },
     "metadata": {
      "needs_background": "light"
     },
     "output_type": "display_data"
    }
   ],
   "source": [
    "tn,fp,fn,tp = confusion_matrix(y_valid,pred6).ravel()\n",
    "print(f'True Neg:{tn}')\n",
    "print(f'False Pos:{fp}')\n",
    "print(f'False Neg:{fn}')\n",
    "print(f'True Pos:{tp}') \n",
    "#confusion matrix heat map\n",
    "f,ax=plt.subplots(figsize=(5,5))\n",
    "sns.heatmap(cmdt,annot = True,linewidths=0.5,linecolor=\"red\",fmt=\".0f\",ax=ax)\n",
    "plt.xlabel(\"pred6\")\n",
    "plt.ylabel(\"y_valid\")\n",
    "plt.show()"
   ]
  },
  {
   "cell_type": "code",
   "execution_count": 361,
   "metadata": {},
   "outputs": [
    {
     "data": {
      "image/png": "[encoded data removed]",
      "text/plain": [
       "<Figure size 432x288 with 1 Axes>"
      ]
     },
     "metadata": {
      "needs_background": "light"
     },
     "output_type": "display_data"
    }
   ],
   "source": [
    "#roc curve\n",
    "fpr6,tpr6,thres6 = roc_curve(y_valid, pred6) \n",
    "roc_auc6 = auc(fpr6, tpr6)\n",
    "plt.title('GradientBoosting - Receiver Operating Characteristic Test Data') \n",
    "plt.plot(fpr6, tpr6, color ='green', lw = 2, label='GradientBoosting ROC curve (area = %0.2f)' % roc_auc6)\n",
    "plt.legend(loc='lower right')    \n",
    "plt.plot([0,1],[0,1],'r--')      \n",
    "plt.xlim([-0.1,1.2])\n",
    "plt.ylim([-0.1,1.2])             \n",
    "plt.xlabel('False Positive Rate')  \n",
    "plt.ylabel('True Positive Rate')\n",
    "plt.show()"
   ]
  },
  {
   "cell_type": "markdown",
   "metadata": {},
   "source": [
    "# Model Selection"
   ]
  },
  {
   "cell_type": "code",
   "execution_count": 362,
   "metadata": {},
   "outputs": [
    {
     "data": {
      "image/png": "[encoded data removed]",
      "text/plain": [
       "<Figure size 432x288 with 1 Axes>"
      ]
     },
     "metadata": {
      "needs_background": "light"
     },
     "output_type": "display_data"
    }
   ],
   "source": [
    "# Bar plots of train and test data accuracies for all models\n",
    "train_acc = [trn1,trn2,trn3,trn4,trn5,trn6]\n",
    "test_acc = [ts1, ts2, ts3, ts4, ts5, ts6]\n",
    "\n",
    "n=6\n",
    "r = np.arange(n)\n",
    "width = 0.25\n",
    "plt.bar(r, train_acc, color = 'b',width = width, edgecolor = 'black',label='train_acc')\n",
    "plt.bar(r + width, test_acc, color = 'g',width = width, edgecolor = 'black',label='test_acc')\n",
    "plt.xlabel(\"Algorithm\")\n",
    "plt.ylabel(\"Accuracy Score\")\n",
    "plt.title(\"Train-Test Accuracy Plot\")\n",
    "\n",
    "# plt.grid(linestyle='--')\n",
    "plt.xticks(r + width/2,['KNN','LR','NB','DT', 'RF','GB'])\n",
    "plt.legend()\n",
    "\n",
    "plt.show()"
   ]
  },
  {
   "cell_type": "code",
   "execution_count": 363,
   "metadata": {},
   "outputs": [
    {
     "data": {
      "image/png": "[encoded data removed]",
      "text/plain": [
       "<Figure size 432x288 with 1 Axes>"
      ]
     },
     "metadata": {
      "needs_background": "light"
     },
     "output_type": "display_data"
    }
   ],
   "source": [
    "# Area under ROC Curv\n",
    "algo = ['KNN','LR','NB','DT', 'RF','GB']\n",
    "auc = [roc_auc1,roc_auc2,roc_auc3,roc_auc4,roc_auc5,roc_auc6]\n",
    "plt.grid(True)\n",
    "plt.title('Area under ROC Curve')\n",
    "plt.plot(algo,auc)\n",
    "plt.show()"
   ]
  },
  {
   "cell_type": "markdown",
   "metadata": {},
   "source": [
    "# Conclusion"
   ]
  },
  {
   "cell_type": "markdown",
   "metadata": {},
   "source": [
    "Looking at above two plots we are good to go with Gradient Boosting algorithm given high auc and high train test accuracy"
   ]
  },
  {
   "cell_type": "code",
   "execution_count": null,
   "metadata": {},
   "outputs": [],
   "source": []
  }
 ],
 "metadata": {
  "kernelspec": {
   "display_name": "Python 3",
   "language": "python",
   "name": "python3"
  },
  "language_info": {
   "codemirror_mode": {
    "name": "ipython",
    "version": 3
   },
   "file_extension": ".py",
   "mimetype": "text/x-python",
   "name": "python",
   "nbconvert_exporter": "python",
   "pygments_lexer": "ipython3",
   "version": "3.8.5"
  }
 },
 "nbformat": 4,
 "nbformat_minor": 5
}
